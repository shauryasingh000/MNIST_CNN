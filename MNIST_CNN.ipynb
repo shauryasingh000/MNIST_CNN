{
  "metadata": {
    "kernelspec": {
      "language": "python",
      "display_name": "Python 3",
      "name": "python3"
    },
    "language_info": {
      "name": "python",
      "version": "3.10.14",
      "mimetype": "text/x-python",
      "codemirror_mode": {
        "name": "ipython",
        "version": 3
      },
      "pygments_lexer": "ipython3",
      "nbconvert_exporter": "python",
      "file_extension": ".py"
    },
    "kaggle": {
      "accelerator": "gpu",
      "dataSources": [
        {
          "sourceId": 3004,
          "databundleVersionId": 861823,
          "sourceType": "competition"
        }
      ],
      "dockerImageVersionId": 30762,
      "isInternetEnabled": true,
      "language": "python",
      "sourceType": "notebook",
      "isGpuEnabled": true
    },
    "colab": {
      "name": "MNIST_CNN",
      "provenance": [],
      "include_colab_link": true
    }
  },
  "nbformat_minor": 0,
  "nbformat": 4,
  "cells": [
    {
      "cell_type": "markdown",
      "metadata": {
        "id": "view-in-github",
        "colab_type": "text"
      },
      "source": [
        "<a href=\"https://colab.research.google.com/github/shauryasingh000/MNIST_CNN/blob/main/MNIST_CNN.ipynb\" target=\"_parent\"><img src=\"https://colab.research.google.com/assets/colab-badge.svg\" alt=\"Open In Colab\"/></a>"
      ]
    },
    {
      "source": [
        "\n",
        "# IMPORTANT: RUN THIS CELL IN ORDER TO IMPORT YOUR KAGGLE DATA SOURCES\n",
        "# TO THE CORRECT LOCATION (/kaggle/input) IN YOUR NOTEBOOK,\n",
        "# THEN FEEL FREE TO DELETE THIS CELL.\n",
        "# NOTE: THIS NOTEBOOK ENVIRONMENT DIFFERS FROM KAGGLE'S PYTHON\n",
        "# ENVIRONMENT SO THERE MAY BE MISSING LIBRARIES USED BY YOUR\n",
        "# NOTEBOOK.\n",
        "\n",
        "import os\n",
        "import sys\n",
        "from tempfile import NamedTemporaryFile\n",
        "from urllib.request import urlopen\n",
        "from urllib.parse import unquote, urlparse\n",
        "from urllib.error import HTTPError\n",
        "from zipfile import ZipFile\n",
        "import tarfile\n",
        "import shutil\n",
        "\n",
        "CHUNK_SIZE = 40960\n",
        "DATA_SOURCE_MAPPING = 'digit-recognizer:https%3A%2F%2Fstorage.googleapis.com%2Fkaggle-competitions-data%2Fkaggle-v2%2F3004%2F861823%2Fbundle%2Farchive.zip%3FX-Goog-Algorithm%3DGOOG4-RSA-SHA256%26X-Goog-Credential%3Dgcp-kaggle-com%2540kaggle-161607.iam.gserviceaccount.com%252F20240908%252Fauto%252Fstorage%252Fgoog4_request%26X-Goog-Date%3D20240908T064955Z%26X-Goog-Expires%3D259200%26X-Goog-SignedHeaders%3Dhost%26X-Goog-Signature%3D39ad060cd496d71e9733d38f40a1995994663f989f25c9577553b292cb7162b3df78eb5aadcafa76624ae6f10943dd41305344663f919718a590ab79a563ae644725065427676e62edf8e327bc045a0fdb4fa1ccba55046b9d230f5f5bc5c500f36e4d33f75f428d6854b9ecaa0a2a194f0ae4422abda2355c33ada8c835cde04faa02894e941674b14a460f6083bf9067961649a0d4ce4c1e728e584588c599df1eb2675a383c561f682ab7f6052cac53f2c965d05a411ed2e7e9ef0a46d78c41744891edeff5e217598c6fd6c2d22330a46394654136ce3035ca56a92331b7a6ff0504433e00031efb69772962a6ba9f2ae3a0a285c9cede9ba7eceedd99cc'\n",
        "\n",
        "KAGGLE_INPUT_PATH='/kaggle/input'\n",
        "KAGGLE_WORKING_PATH='/kaggle/working'\n",
        "KAGGLE_SYMLINK='kaggle'\n",
        "\n",
        "!umount /kaggle/input/ 2> /dev/null\n",
        "shutil.rmtree('/kaggle/input', ignore_errors=True)\n",
        "os.makedirs(KAGGLE_INPUT_PATH, 0o777, exist_ok=True)\n",
        "os.makedirs(KAGGLE_WORKING_PATH, 0o777, exist_ok=True)\n",
        "\n",
        "try:\n",
        "  os.symlink(KAGGLE_INPUT_PATH, os.path.join(\"..\", 'input'), target_is_directory=True)\n",
        "except FileExistsError:\n",
        "  pass\n",
        "try:\n",
        "  os.symlink(KAGGLE_WORKING_PATH, os.path.join(\"..\", 'working'), target_is_directory=True)\n",
        "except FileExistsError:\n",
        "  pass\n",
        "\n",
        "for data_source_mapping in DATA_SOURCE_MAPPING.split(','):\n",
        "    directory, download_url_encoded = data_source_mapping.split(':')\n",
        "    download_url = unquote(download_url_encoded)\n",
        "    filename = urlparse(download_url).path\n",
        "    destination_path = os.path.join(KAGGLE_INPUT_PATH, directory)\n",
        "    try:\n",
        "        with urlopen(download_url) as fileres, NamedTemporaryFile() as tfile:\n",
        "            total_length = fileres.headers['content-length']\n",
        "            print(f'Downloading {directory}, {total_length} bytes compressed')\n",
        "            dl = 0\n",
        "            data = fileres.read(CHUNK_SIZE)\n",
        "            while len(data) > 0:\n",
        "                dl += len(data)\n",
        "                tfile.write(data)\n",
        "                done = int(50 * dl / int(total_length))\n",
        "                sys.stdout.write(f\"\\r[{'=' * done}{' ' * (50-done)}] {dl} bytes downloaded\")\n",
        "                sys.stdout.flush()\n",
        "                data = fileres.read(CHUNK_SIZE)\n",
        "            if filename.endswith('.zip'):\n",
        "              with ZipFile(tfile) as zfile:\n",
        "                zfile.extractall(destination_path)\n",
        "            else:\n",
        "              with tarfile.open(tfile.name) as tarfile:\n",
        "                tarfile.extractall(destination_path)\n",
        "            print(f'\\nDownloaded and uncompressed: {directory}')\n",
        "    except HTTPError as e:\n",
        "        print(f'Failed to load (likely expired) {download_url} to path {destination_path}')\n",
        "        continue\n",
        "    except OSError as e:\n",
        "        print(f'Failed to load {download_url} to path {destination_path}')\n",
        "        continue\n",
        "\n",
        "print('Data source import complete.')\n"
      ],
      "metadata": {
        "id": "ZkQ71omnZXeh"
      },
      "cell_type": "code",
      "outputs": [],
      "execution_count": null
    },
    {
      "cell_type": "code",
      "source": [
        "# This Python 3 environment comes with many helpful analytics libraries installed\n",
        "# It is defined by the kaggle/python Docker image: https://github.com/kaggle/docker-python\n",
        "# For example, here's several helpful packages to load\n",
        "\n",
        "import numpy as np # linear algebra\n",
        "import pandas as pd # data processing, CSV file I/O (e.g. pd.read_csv)\n",
        "\n",
        "# Input data files are available in the read-only \"../input/\" directory\n",
        "# For example, running this (by clicking run or pressing Shift+Enter) will list all files under the input directory\n",
        "\n",
        "import os\n",
        "for dirname, _, filenames in os.walk('/kaggle/input'):\n",
        "    for filename in filenames:\n",
        "        print(os.path.join(dirname, filename))\n",
        "\n",
        "# You can write up to 20GB to the current directory (/kaggle/working/) that gets preserved as output when you create a version using \"Save & Run All\"\n",
        "# You can also write temporary files to /kaggle/temp/, but they won't be saved outside of the current session"
      ],
      "metadata": {
        "_uuid": "8f2839f25d086af736a60e9eeb907d3b93b6e0e5",
        "_cell_guid": "b1076dfc-b9ad-4769-8c92-a6c4dae69d19",
        "execution": {
          "iopub.status.busy": "2024-09-08T06:33:54.015009Z",
          "iopub.execute_input": "2024-09-08T06:33:54.015409Z",
          "iopub.status.idle": "2024-09-08T06:33:54.389696Z",
          "shell.execute_reply.started": "2024-09-08T06:33:54.01537Z",
          "shell.execute_reply": "2024-09-08T06:33:54.388813Z"
        },
        "trusted": true,
        "id": "vJ-nx-BNZXen",
        "outputId": "fefca672-1f46-4d56-b55f-45002ad9ff6c"
      },
      "execution_count": null,
      "outputs": [
        {
          "name": "stdout",
          "text": "/kaggle/input/digit-recognizer/sample_submission.csv\n/kaggle/input/digit-recognizer/train.csv\n/kaggle/input/digit-recognizer/test.csv\n",
          "output_type": "stream"
        }
      ]
    },
    {
      "cell_type": "code",
      "source": [
        "train = pd.read_csv('/kaggle/input/digit-recognizer/train.csv')\n",
        "test = pd.read_csv('/kaggle/input/digit-recognizer/test.csv')"
      ],
      "metadata": {
        "execution": {
          "iopub.status.busy": "2024-09-08T06:33:54.391316Z",
          "iopub.execute_input": "2024-09-08T06:33:54.391721Z",
          "iopub.status.idle": "2024-09-08T06:34:00.199624Z",
          "shell.execute_reply.started": "2024-09-08T06:33:54.391685Z",
          "shell.execute_reply": "2024-09-08T06:34:00.198775Z"
        },
        "trusted": true,
        "id": "BAag409EZXeo"
      },
      "execution_count": null,
      "outputs": []
    },
    {
      "cell_type": "code",
      "source": [
        "from IPython.display import display\n",
        "display(train.shape)\n",
        "display(test.shape)"
      ],
      "metadata": {
        "execution": {
          "iopub.status.busy": "2024-09-08T06:34:00.200824Z",
          "iopub.execute_input": "2024-09-08T06:34:00.201148Z",
          "iopub.status.idle": "2024-09-08T06:34:00.210219Z",
          "shell.execute_reply.started": "2024-09-08T06:34:00.201114Z",
          "shell.execute_reply": "2024-09-08T06:34:00.209284Z"
        },
        "trusted": true,
        "id": "r4NU0k1jZXep",
        "outputId": "dfac7c61-fad6-41fb-f68a-dc1b4749b806"
      },
      "execution_count": null,
      "outputs": [
        {
          "output_type": "display_data",
          "data": {
            "text/plain": "(42000, 785)"
          },
          "metadata": {}
        },
        {
          "output_type": "display_data",
          "data": {
            "text/plain": "(28000, 784)"
          },
          "metadata": {}
        }
      ]
    },
    {
      "cell_type": "code",
      "source": [
        "train.columns"
      ],
      "metadata": {
        "execution": {
          "iopub.status.busy": "2024-09-08T06:34:00.212647Z",
          "iopub.execute_input": "2024-09-08T06:34:00.212958Z",
          "iopub.status.idle": "2024-09-08T06:34:00.223355Z",
          "shell.execute_reply.started": "2024-09-08T06:34:00.212926Z",
          "shell.execute_reply": "2024-09-08T06:34:00.222461Z"
        },
        "trusted": true,
        "id": "4LKarcbIZXeq",
        "outputId": "5aa30565-376c-4a6e-db36-614d78644c7a"
      },
      "execution_count": null,
      "outputs": [
        {
          "execution_count": 7,
          "output_type": "execute_result",
          "data": {
            "text/plain": "Index(['label', 'pixel0', 'pixel1', 'pixel2', 'pixel3', 'pixel4', 'pixel5',\n       'pixel6', 'pixel7', 'pixel8',\n       ...\n       'pixel774', 'pixel775', 'pixel776', 'pixel777', 'pixel778', 'pixel779',\n       'pixel780', 'pixel781', 'pixel782', 'pixel783'],\n      dtype='object', length=785)"
          },
          "metadata": {}
        }
      ]
    },
    {
      "cell_type": "code",
      "source": [
        "#  Data prep\n",
        "\n",
        "X = train.drop(columns =['label'])\n",
        "y = train['label']\n",
        "\n",
        "X_test = test\n"
      ],
      "metadata": {
        "execution": {
          "iopub.status.busy": "2024-09-08T06:34:00.224526Z",
          "iopub.execute_input": "2024-09-08T06:34:00.225118Z",
          "iopub.status.idle": "2024-09-08T06:34:00.319486Z",
          "shell.execute_reply.started": "2024-09-08T06:34:00.225076Z",
          "shell.execute_reply": "2024-09-08T06:34:00.318667Z"
        },
        "trusted": true,
        "id": "Vfxj7hS7ZXer"
      },
      "execution_count": null,
      "outputs": []
    },
    {
      "cell_type": "code",
      "source": [
        "print(X.shape)\n",
        "print(y.shape)"
      ],
      "metadata": {
        "execution": {
          "iopub.status.busy": "2024-09-08T06:34:00.320744Z",
          "iopub.execute_input": "2024-09-08T06:34:00.321167Z",
          "iopub.status.idle": "2024-09-08T06:34:00.326835Z",
          "shell.execute_reply.started": "2024-09-08T06:34:00.321112Z",
          "shell.execute_reply": "2024-09-08T06:34:00.3258Z"
        },
        "trusted": true,
        "id": "dX13J7wKZXer",
        "outputId": "7f5a0dad-58df-4f8f-869a-e94671a7e7f9"
      },
      "execution_count": null,
      "outputs": [
        {
          "name": "stdout",
          "text": "(42000, 784)\n(42000,)\n",
          "output_type": "stream"
        }
      ]
    },
    {
      "cell_type": "code",
      "source": [
        "# Data Normailization\n",
        "\n",
        "X = X/255\n",
        "X_test = X_test/255"
      ],
      "metadata": {
        "execution": {
          "iopub.status.busy": "2024-09-08T06:34:00.328183Z",
          "iopub.execute_input": "2024-09-08T06:34:00.328632Z",
          "iopub.status.idle": "2024-09-08T06:34:00.445147Z",
          "shell.execute_reply.started": "2024-09-08T06:34:00.328594Z",
          "shell.execute_reply": "2024-09-08T06:34:00.444225Z"
        },
        "trusted": true,
        "id": "nhFFuIIkZXes"
      },
      "execution_count": null,
      "outputs": []
    },
    {
      "cell_type": "code",
      "source": [
        "# Reshape to 3D\n",
        "\n",
        "X = X.values.reshape(-1,28,28,1)\n",
        "X_test = X_test.values.reshape(-1,28,28,1)"
      ],
      "metadata": {
        "execution": {
          "iopub.status.busy": "2024-09-08T06:34:00.44623Z",
          "iopub.execute_input": "2024-09-08T06:34:00.446553Z",
          "iopub.status.idle": "2024-09-08T06:34:00.451655Z",
          "shell.execute_reply.started": "2024-09-08T06:34:00.44652Z",
          "shell.execute_reply": "2024-09-08T06:34:00.450642Z"
        },
        "trusted": true,
        "id": "tkFnBY-TZXes"
      },
      "execution_count": null,
      "outputs": []
    },
    {
      "cell_type": "code",
      "source": [
        "from keras.utils import to_categorical\n",
        "\n",
        "Y_train = to_categorical(y, num_classes = 10)\n",
        "print(Y_train.shape)"
      ],
      "metadata": {
        "execution": {
          "iopub.status.busy": "2024-09-08T06:34:00.452806Z",
          "iopub.execute_input": "2024-09-08T06:34:00.453118Z",
          "iopub.status.idle": "2024-09-08T06:34:13.395612Z",
          "shell.execute_reply.started": "2024-09-08T06:34:00.453086Z",
          "shell.execute_reply": "2024-09-08T06:34:13.394532Z"
        },
        "trusted": true,
        "id": "OdVqUN4HZXes",
        "outputId": "ddab8495-a23a-4c1f-d3dd-971a8c2a09ea"
      },
      "execution_count": null,
      "outputs": [
        {
          "name": "stdout",
          "text": "(42000, 10)\n",
          "output_type": "stream"
        }
      ]
    },
    {
      "cell_type": "code",
      "source": [
        "import matplotlib.pyplot as plt\n",
        "\n",
        "plt.figure(figsize=(15,4.5))\n",
        "for i in range(30):\n",
        "    plt.subplot(3, 10, i+1)\n",
        "    plt.imshow(X[i].reshape((28,28)),cmap=plt.cm.binary)\n",
        "    plt.axis('off')\n",
        "plt.subplots_adjust(wspace=-0.1, hspace=-0.1)\n",
        "plt.show()"
      ],
      "metadata": {
        "execution": {
          "iopub.status.busy": "2024-09-08T06:34:13.398673Z",
          "iopub.execute_input": "2024-09-08T06:34:13.399302Z",
          "iopub.status.idle": "2024-09-08T06:34:14.486609Z",
          "shell.execute_reply.started": "2024-09-08T06:34:13.399261Z",
          "shell.execute_reply": "2024-09-08T06:34:14.485673Z"
        },
        "trusted": true,
        "id": "mqFKUI5-ZXet",
        "outputId": "119e3b19-6964-4401-baf5-dc106dd8df2f"
      },
      "execution_count": null,
      "outputs": [
        {
          "output_type": "display_data",
          "data": {
            "text/plain": "<Figure size 1500x450 with 30 Axes>",
            "image/png": "[encoded data removed]"
          },
          "metadata": {}
        }
      ]
    },
    {
      "cell_type": "code",
      "source": [
        "# Data Augmentation to get more number of images and more subtle variations\n",
        "\n",
        "from tensorflow.keras.preprocessing.image import ImageDataGenerator\n",
        "\n",
        "datagen =  ImageDataGenerator(\n",
        "        rotation_range=15,\n",
        "        zoom_range = 0.01,\n",
        "        width_shift_range=0.1,\n",
        "        height_shift_range=0.1,)"
      ],
      "metadata": {
        "execution": {
          "iopub.status.busy": "2024-09-08T06:34:14.488393Z",
          "iopub.execute_input": "2024-09-08T06:34:14.488879Z",
          "iopub.status.idle": "2024-09-08T06:34:14.556127Z",
          "shell.execute_reply.started": "2024-09-08T06:34:14.488836Z",
          "shell.execute_reply": "2024-09-08T06:34:14.555232Z"
        },
        "trusted": true,
        "id": "wCswcsziZXet"
      },
      "execution_count": null,
      "outputs": []
    },
    {
      "cell_type": "code",
      "source": [
        "# Importing Libraries\n",
        "\n",
        "from sklearn.model_selection import train_test_split\n",
        "\n",
        "from keras.models import Sequential\n",
        "from keras.layers import *\n",
        "from keras.callbacks import LearningRateScheduler\n",
        "from tensorflow import keras\n"
      ],
      "metadata": {
        "execution": {
          "iopub.status.busy": "2024-09-08T06:36:08.035006Z",
          "iopub.execute_input": "2024-09-08T06:36:08.035651Z",
          "iopub.status.idle": "2024-09-08T06:36:08.040868Z",
          "shell.execute_reply.started": "2024-09-08T06:36:08.035609Z",
          "shell.execute_reply": "2024-09-08T06:36:08.039806Z"
        },
        "trusted": true,
        "id": "BVCo9WoYZXet"
      },
      "execution_count": null,
      "outputs": []
    },
    {
      "cell_type": "code",
      "source": [
        "model=Sequential()\n",
        "\n",
        "#model.add(Lambda(standardize,input_shape=(28,28,1)))\n",
        "model.add(Conv2D(filters=64, kernel_size = (3,3), activation=\"relu\", input_shape=(28,28,1)))\n",
        "model.add(Conv2D(filters=64, kernel_size = (3,3), activation=\"relu\"))\n",
        "model.add(MaxPooling2D(pool_size=(2,2)))\n",
        "model.add(BatchNormalization())\n",
        "\n",
        "model.add(Conv2D(filters=128, kernel_size = (3,3), activation=\"relu\"))\n",
        "model.add(Conv2D(filters=128, kernel_size = (3,3), activation=\"relu\"))\n",
        "model.add(MaxPooling2D(pool_size=(2,2)))\n",
        "model.add(BatchNormalization())\n",
        "\n",
        "model.add(Conv2D(filters=256, kernel_size = (3,3), activation=\"relu\"))\n",
        "model.add(MaxPooling2D(pool_size=(2,2)))\n",
        "model.add(BatchNormalization())\n",
        "\n",
        "model.add(Flatten())\n",
        "model.add(Dense(512,activation=\"relu\"))\n",
        "\n",
        "model.add(Dense(10,activation=\"softmax\"))\n",
        "\n",
        "model.compile(loss=\"categorical_crossentropy\", optimizer=\"adam\", metrics=[\"accuracy\"])"
      ],
      "metadata": {
        "execution": {
          "iopub.status.busy": "2024-09-08T06:34:15.039323Z",
          "iopub.execute_input": "2024-09-08T06:34:15.039919Z",
          "iopub.status.idle": "2024-09-08T06:34:15.926113Z",
          "shell.execute_reply.started": "2024-09-08T06:34:15.039875Z",
          "shell.execute_reply": "2024-09-08T06:34:15.925074Z"
        },
        "trusted": true,
        "id": "Qrizu-9qZXeu",
        "outputId": "68e91dfd-d76d-41f7-f6e0-39106293f2ff"
      },
      "execution_count": null,
      "outputs": [
        {
          "name": "stderr",
          "text": "/opt/conda/lib/python3.10/site-packages/keras/src/layers/convolutional/base_conv.py:107: UserWarning: Do not pass an `input_shape`/`input_dim` argument to a layer. When using Sequential models, prefer using an `Input(shape)` object as the first layer in the model instead.\n  super().__init__(activity_regularizer=activity_regularizer, **kwargs)\n",
          "output_type": "stream"
        }
      ]
    },
    {
      "cell_type": "code",
      "source": [
        "model.summary()"
      ],
      "metadata": {
        "execution": {
          "iopub.status.busy": "2024-09-08T06:34:15.927605Z",
          "iopub.execute_input": "2024-09-08T06:34:15.928166Z",
          "iopub.status.idle": "2024-09-08T06:34:15.959399Z",
          "shell.execute_reply.started": "2024-09-08T06:34:15.928126Z",
          "shell.execute_reply": "2024-09-08T06:34:15.958468Z"
        },
        "trusted": true,
        "id": "VaGYcchCZXeu",
        "outputId": "023ac0e7-8735-4037-d754-5ad7e9223e22"
      },
      "execution_count": null,
      "outputs": [
        {
          "output_type": "display_data",
          "data": {
            "text/plain": "\u001b[1mModel: \"sequential\"\u001b[0m\n",
            "text/html": "<pre style=\"white-space:pre;overflow-x:auto;line-height:normal;font-family:Menlo,'DejaVu Sans Mono',consolas,'Courier New',monospace\"><span style=\"font-weight: bold\">Model: \"sequential\"</span>\n</pre>\n"
          },
          "metadata": {}
        },
        {
          "output_type": "display_data",
          "data": {
            "text/plain": "┏━━━━━━━━━━━━━━━━━━━━━━━━━━━━━━━━━┳━━━━━━━━━━━━━━━━━━━━━━━━┳━━━━━━━━━━━━━━━┓\n┃\u001b[1m \u001b[0m\u001b[1mLayer (type)                   \u001b[0m\u001b[1m \u001b[0m┃\u001b[1m \u001b[0m\u001b[1mOutput Shape          \u001b[0m\u001b[1m \u001b[0m┃\u001b[1m \u001b[0m\u001b[1m      Param #\u001b[0m\u001b[1m \u001b[0m┃\n┡━━━━━━━━━━━━━━━━━━━━━━━━━━━━━━━━━╇━━━━━━━━━━━━━━━━━━━━━━━━╇━━━━━━━━━━━━━━━┩\n│ conv2d (\u001b[38;5;33mConv2D\u001b[0m)                 │ (\u001b[38;5;45mNone\u001b[0m, \u001b[38;5;34m26\u001b[0m, \u001b[38;5;34m26\u001b[0m, \u001b[38;5;34m64\u001b[0m)     │           \u001b[38;5;34m640\u001b[0m │\n├─────────────────────────────────┼────────────────────────┼───────────────┤\n│ conv2d_1 (\u001b[38;5;33mConv2D\u001b[0m)               │ (\u001b[38;5;45mNone\u001b[0m, \u001b[38;5;34m24\u001b[0m, \u001b[38;5;34m24\u001b[0m, \u001b[38;5;34m64\u001b[0m)     │        \u001b[38;5;34m36,928\u001b[0m │\n├─────────────────────────────────┼────────────────────────┼───────────────┤\n│ max_pooling2d (\u001b[38;5;33mMaxPooling2D\u001b[0m)    │ (\u001b[38;5;45mNone\u001b[0m, \u001b[38;5;34m12\u001b[0m, \u001b[38;5;34m12\u001b[0m, \u001b[38;5;34m64\u001b[0m)     │             \u001b[38;5;34m0\u001b[0m │\n├─────────────────────────────────┼────────────────────────┼───────────────┤\n│ batch_normalization             │ (\u001b[38;5;45mNone\u001b[0m, \u001b[38;5;34m12\u001b[0m, \u001b[38;5;34m12\u001b[0m, \u001b[38;5;34m64\u001b[0m)     │           \u001b[38;5;34m256\u001b[0m │\n│ (\u001b[38;5;33mBatchNormalization\u001b[0m)            │                        │               │\n├─────────────────────────────────┼────────────────────────┼───────────────┤\n│ conv2d_2 (\u001b[38;5;33mConv2D\u001b[0m)               │ (\u001b[38;5;45mNone\u001b[0m, \u001b[38;5;34m10\u001b[0m, \u001b[38;5;34m10\u001b[0m, \u001b[38;5;34m128\u001b[0m)    │        \u001b[38;5;34m73,856\u001b[0m │\n├─────────────────────────────────┼────────────────────────┼───────────────┤\n│ conv2d_3 (\u001b[38;5;33mConv2D\u001b[0m)               │ (\u001b[38;5;45mNone\u001b[0m, \u001b[38;5;34m8\u001b[0m, \u001b[38;5;34m8\u001b[0m, \u001b[38;5;34m128\u001b[0m)      │       \u001b[38;5;34m147,584\u001b[0m │\n├─────────────────────────────────┼────────────────────────┼───────────────┤\n│ max_pooling2d_1 (\u001b[38;5;33mMaxPooling2D\u001b[0m)  │ (\u001b[38;5;45mNone\u001b[0m, \u001b[38;5;34m4\u001b[0m, \u001b[38;5;34m4\u001b[0m, \u001b[38;5;34m128\u001b[0m)      │             \u001b[38;5;34m0\u001b[0m │\n├─────────────────────────────────┼────────────────────────┼───────────────┤\n│ batch_normalization_1           │ (\u001b[38;5;45mNone\u001b[0m, \u001b[38;5;34m4\u001b[0m, \u001b[38;5;34m4\u001b[0m, \u001b[38;5;34m128\u001b[0m)      │           \u001b[38;5;34m512\u001b[0m │\n│ (\u001b[38;5;33mBatchNormalization\u001b[0m)            │                        │               │\n├─────────────────────────────────┼────────────────────────┼───────────────┤\n│ conv2d_4 (\u001b[38;5;33mConv2D\u001b[0m)               │ (\u001b[38;5;45mNone\u001b[0m, \u001b[38;5;34m2\u001b[0m, \u001b[38;5;34m2\u001b[0m, \u001b[38;5;34m256\u001b[0m)      │       \u001b[38;5;34m295,168\u001b[0m │\n├─────────────────────────────────┼────────────────────────┼───────────────┤\n│ max_pooling2d_2 (\u001b[38;5;33mMaxPooling2D\u001b[0m)  │ (\u001b[38;5;45mNone\u001b[0m, \u001b[38;5;34m1\u001b[0m, \u001b[38;5;34m1\u001b[0m, \u001b[38;5;34m256\u001b[0m)      │             \u001b[38;5;34m0\u001b[0m │\n├─────────────────────────────────┼────────────────────────┼───────────────┤\n│ batch_normalization_2           │ (\u001b[38;5;45mNone\u001b[0m, \u001b[38;5;34m1\u001b[0m, \u001b[38;5;34m1\u001b[0m, \u001b[38;5;34m256\u001b[0m)      │         \u001b[38;5;34m1,024\u001b[0m │\n│ (\u001b[38;5;33mBatchNormalization\u001b[0m)            │                        │               │\n├─────────────────────────────────┼────────────────────────┼───────────────┤\n│ flatten (\u001b[38;5;33mFlatten\u001b[0m)               │ (\u001b[38;5;45mNone\u001b[0m, \u001b[38;5;34m256\u001b[0m)            │             \u001b[38;5;34m0\u001b[0m │\n├─────────────────────────────────┼────────────────────────┼───────────────┤\n│ dense (\u001b[38;5;33mDense\u001b[0m)                   │ (\u001b[38;5;45mNone\u001b[0m, \u001b[38;5;34m512\u001b[0m)            │       \u001b[38;5;34m131,584\u001b[0m │\n├─────────────────────────────────┼────────────────────────┼───────────────┤\n│ dense_1 (\u001b[38;5;33mDense\u001b[0m)                 │ (\u001b[38;5;45mNone\u001b[0m, \u001b[38;5;34m10\u001b[0m)             │         \u001b[38;5;34m5,130\u001b[0m │\n└─────────────────────────────────┴────────────────────────┴───────────────┘\n",
            "text/html": "<pre style=\"white-space:pre;overflow-x:auto;line-height:normal;font-family:Menlo,'DejaVu Sans Mono',consolas,'Courier New',monospace\">┏━━━━━━━━━━━━━━━━━━━━━━━━━━━━━━━━━┳━━━━━━━━━━━━━━━━━━━━━━━━┳━━━━━━━━━━━━━━━┓\n┃<span style=\"font-weight: bold\"> Layer (type)                    </span>┃<span style=\"font-weight: bold\"> Output Shape           </span>┃<span style=\"font-weight: bold\">       Param # </span>┃\n┡━━━━━━━━━━━━━━━━━━━━━━━━━━━━━━━━━╇━━━━━━━━━━━━━━━━━━━━━━━━╇━━━━━━━━━━━━━━━┩\n│ conv2d (<span style=\"color: #0087ff; text-decoration-color: #0087ff\">Conv2D</span>)                 │ (<span style=\"color: #00d7ff; text-decoration-color: #00d7ff\">None</span>, <span style=\"color: #00af00; text-decoration-color: #00af00\">26</span>, <span style=\"color: #00af00; text-decoration-color: #00af00\">26</span>, <span style=\"color: #00af00; text-decoration-color: #00af00\">64</span>)     │           <span style=\"color: #00af00; text-decoration-color: #00af00\">640</span> │\n├─────────────────────────────────┼────────────────────────┼───────────────┤\n│ conv2d_1 (<span style=\"color: #0087ff; text-decoration-color: #0087ff\">Conv2D</span>)               │ (<span style=\"color: #00d7ff; text-decoration-color: #00d7ff\">None</span>, <span style=\"color: #00af00; text-decoration-color: #00af00\">24</span>, <span style=\"color: #00af00; text-decoration-color: #00af00\">24</span>, <span style=\"color: #00af00; text-decoration-color: #00af00\">64</span>)     │        <span style=\"color: #00af00; text-decoration-color: #00af00\">36,928</span> │\n├─────────────────────────────────┼────────────────────────┼───────────────┤\n│ max_pooling2d (<span style=\"color: #0087ff; text-decoration-color: #0087ff\">MaxPooling2D</span>)    │ (<span style=\"color: #00d7ff; text-decoration-color: #00d7ff\">None</span>, <span style=\"color: #00af00; text-decoration-color: #00af00\">12</span>, <span style=\"color: #00af00; text-decoration-color: #00af00\">12</span>, <span style=\"color: #00af00; text-decoration-color: #00af00\">64</span>)     │             <span style=\"color: #00af00; text-decoration-color: #00af00\">0</span> │\n├─────────────────────────────────┼────────────────────────┼───────────────┤\n│ batch_normalization             │ (<span style=\"color: #00d7ff; text-decoration-color: #00d7ff\">None</span>, <span style=\"color: #00af00; text-decoration-color: #00af00\">12</span>, <span style=\"color: #00af00; text-decoration-color: #00af00\">12</span>, <span style=\"color: #00af00; text-decoration-color: #00af00\">64</span>)     │           <span style=\"color: #00af00; text-decoration-color: #00af00\">256</span> │\n│ (<span style=\"color: #0087ff; text-decoration-color: #0087ff\">BatchNormalization</span>)            │                        │               │\n├─────────────────────────────────┼────────────────────────┼───────────────┤\n│ conv2d_2 (<span style=\"color: #0087ff; text-decoration-color: #0087ff\">Conv2D</span>)               │ (<span style=\"color: #00d7ff; text-decoration-color: #00d7ff\">None</span>, <span style=\"color: #00af00; text-decoration-color: #00af00\">10</span>, <span style=\"color: #00af00; text-decoration-color: #00af00\">10</span>, <span style=\"color: #00af00; text-decoration-color: #00af00\">128</span>)    │        <span style=\"color: #00af00; text-decoration-color: #00af00\">73,856</span> │\n├─────────────────────────────────┼────────────────────────┼───────────────┤\n│ conv2d_3 (<span style=\"color: #0087ff; text-decoration-color: #0087ff\">Conv2D</span>)               │ (<span style=\"color: #00d7ff; text-decoration-color: #00d7ff\">None</span>, <span style=\"color: #00af00; text-decoration-color: #00af00\">8</span>, <span style=\"color: #00af00; text-decoration-color: #00af00\">8</span>, <span style=\"color: #00af00; text-decoration-color: #00af00\">128</span>)      │       <span style=\"color: #00af00; text-decoration-color: #00af00\">147,584</span> │\n├─────────────────────────────────┼────────────────────────┼───────────────┤\n│ max_pooling2d_1 (<span style=\"color: #0087ff; text-decoration-color: #0087ff\">MaxPooling2D</span>)  │ (<span style=\"color: #00d7ff; text-decoration-color: #00d7ff\">None</span>, <span style=\"color: #00af00; text-decoration-color: #00af00\">4</span>, <span style=\"color: #00af00; text-decoration-color: #00af00\">4</span>, <span style=\"color: #00af00; text-decoration-color: #00af00\">128</span>)      │             <span style=\"color: #00af00; text-decoration-color: #00af00\">0</span> │\n├─────────────────────────────────┼────────────────────────┼───────────────┤\n│ batch_normalization_1           │ (<span style=\"color: #00d7ff; text-decoration-color: #00d7ff\">None</span>, <span style=\"color: #00af00; text-decoration-color: #00af00\">4</span>, <span style=\"color: #00af00; text-decoration-color: #00af00\">4</span>, <span style=\"color: #00af00; text-decoration-color: #00af00\">128</span>)      │           <span style=\"color: #00af00; text-decoration-color: #00af00\">512</span> │\n│ (<span style=\"color: #0087ff; text-decoration-color: #0087ff\">BatchNormalization</span>)            │                        │               │\n├─────────────────────────────────┼────────────────────────┼───────────────┤\n│ conv2d_4 (<span style=\"color: #0087ff; text-decoration-color: #0087ff\">Conv2D</span>)               │ (<span style=\"color: #00d7ff; text-decoration-color: #00d7ff\">None</span>, <span style=\"color: #00af00; text-decoration-color: #00af00\">2</span>, <span style=\"color: #00af00; text-decoration-color: #00af00\">2</span>, <span style=\"color: #00af00; text-decoration-color: #00af00\">256</span>)      │       <span style=\"color: #00af00; text-decoration-color: #00af00\">295,168</span> │\n├─────────────────────────────────┼────────────────────────┼───────────────┤\n│ max_pooling2d_2 (<span style=\"color: #0087ff; text-decoration-color: #0087ff\">MaxPooling2D</span>)  │ (<span style=\"color: #00d7ff; text-decoration-color: #00d7ff\">None</span>, <span style=\"color: #00af00; text-decoration-color: #00af00\">1</span>, <span style=\"color: #00af00; text-decoration-color: #00af00\">1</span>, <span style=\"color: #00af00; text-decoration-color: #00af00\">256</span>)      │             <span style=\"color: #00af00; text-decoration-color: #00af00\">0</span> │\n├─────────────────────────────────┼────────────────────────┼───────────────┤\n│ batch_normalization_2           │ (<span style=\"color: #00d7ff; text-decoration-color: #00d7ff\">None</span>, <span style=\"color: #00af00; text-decoration-color: #00af00\">1</span>, <span style=\"color: #00af00; text-decoration-color: #00af00\">1</span>, <span style=\"color: #00af00; text-decoration-color: #00af00\">256</span>)      │         <span style=\"color: #00af00; text-decoration-color: #00af00\">1,024</span> │\n│ (<span style=\"color: #0087ff; text-decoration-color: #0087ff\">BatchNormalization</span>)            │                        │               │\n├─────────────────────────────────┼────────────────────────┼───────────────┤\n│ flatten (<span style=\"color: #0087ff; text-decoration-color: #0087ff\">Flatten</span>)               │ (<span style=\"color: #00d7ff; text-decoration-color: #00d7ff\">None</span>, <span style=\"color: #00af00; text-decoration-color: #00af00\">256</span>)            │             <span style=\"color: #00af00; text-decoration-color: #00af00\">0</span> │\n├─────────────────────────────────┼────────────────────────┼───────────────┤\n│ dense (<span style=\"color: #0087ff; text-decoration-color: #0087ff\">Dense</span>)                   │ (<span style=\"color: #00d7ff; text-decoration-color: #00d7ff\">None</span>, <span style=\"color: #00af00; text-decoration-color: #00af00\">512</span>)            │       <span style=\"color: #00af00; text-decoration-color: #00af00\">131,584</span> │\n├─────────────────────────────────┼────────────────────────┼───────────────┤\n│ dense_1 (<span style=\"color: #0087ff; text-decoration-color: #0087ff\">Dense</span>)                 │ (<span style=\"color: #00d7ff; text-decoration-color: #00d7ff\">None</span>, <span style=\"color: #00af00; text-decoration-color: #00af00\">10</span>)             │         <span style=\"color: #00af00; text-decoration-color: #00af00\">5,130</span> │\n└─────────────────────────────────┴────────────────────────┴───────────────┘\n</pre>\n"
          },
          "metadata": {}
        },
        {
          "output_type": "display_data",
          "data": {
            "text/plain": "\u001b[1m Total params: \u001b[0m\u001b[38;5;34m692,682\u001b[0m (2.64 MB)\n",
            "text/html": "<pre style=\"white-space:pre;overflow-x:auto;line-height:normal;font-family:Menlo,'DejaVu Sans Mono',consolas,'Courier New',monospace\"><span style=\"font-weight: bold\"> Total params: </span><span style=\"color: #00af00; text-decoration-color: #00af00\">692,682</span> (2.64 MB)\n</pre>\n"
          },
          "metadata": {}
        },
        {
          "output_type": "display_data",
          "data": {
            "text/plain": "\u001b[1m Trainable params: \u001b[0m\u001b[38;5;34m691,786\u001b[0m (2.64 MB)\n",
            "text/html": "<pre style=\"white-space:pre;overflow-x:auto;line-height:normal;font-family:Menlo,'DejaVu Sans Mono',consolas,'Courier New',monospace\"><span style=\"font-weight: bold\"> Trainable params: </span><span style=\"color: #00af00; text-decoration-color: #00af00\">691,786</span> (2.64 MB)\n</pre>\n"
          },
          "metadata": {}
        },
        {
          "output_type": "display_data",
          "data": {
            "text/plain": "\u001b[1m Non-trainable params: \u001b[0m\u001b[38;5;34m896\u001b[0m (3.50 KB)\n",
            "text/html": "<pre style=\"white-space:pre;overflow-x:auto;line-height:normal;font-family:Menlo,'DejaVu Sans Mono',consolas,'Courier New',monospace\"><span style=\"font-weight: bold\"> Non-trainable params: </span><span style=\"color: #00af00; text-decoration-color: #00af00\">896</span> (3.50 KB)\n</pre>\n"
          },
          "metadata": {}
        }
      ]
    },
    {
      "cell_type": "code",
      "source": [
        "X_train, X_test, y_train, y_test = train_test_split(X, Y_train, test_size=0.1, random_state=0)\n",
        "X_train.shape, X_test.shape, y_train.shape, y_test.shape"
      ],
      "metadata": {
        "execution": {
          "iopub.status.busy": "2024-09-08T06:34:15.960544Z",
          "iopub.execute_input": "2024-09-08T06:34:15.960939Z",
          "iopub.status.idle": "2024-09-08T06:34:16.357547Z",
          "shell.execute_reply.started": "2024-09-08T06:34:15.960887Z",
          "shell.execute_reply": "2024-09-08T06:34:16.356537Z"
        },
        "trusted": true,
        "id": "a6ry9I-4ZXeu",
        "outputId": "0494c671-ee92-4ba4-bd4b-73f2a975e5d0"
      },
      "execution_count": null,
      "outputs": [
        {
          "execution_count": 18,
          "output_type": "execute_result",
          "data": {
            "text/plain": "((37800, 28, 28, 1), (4200, 28, 28, 1), (37800, 10), (4200, 10))"
          },
          "metadata": {}
        }
      ]
    },
    {
      "cell_type": "code",
      "source": [
        "train_gen = datagen.flow(X_train, y_train, batch_size=128)\n",
        "test_gen = datagen.flow(X_test, y_test, batch_size=128)"
      ],
      "metadata": {
        "execution": {
          "iopub.status.busy": "2024-09-08T06:34:25.46556Z",
          "iopub.execute_input": "2024-09-08T06:34:25.466522Z",
          "iopub.status.idle": "2024-09-08T06:34:25.523306Z",
          "shell.execute_reply.started": "2024-09-08T06:34:25.466477Z",
          "shell.execute_reply": "2024-09-08T06:34:25.522433Z"
        },
        "trusted": true,
        "id": "aPkVC1C1ZXeu"
      },
      "execution_count": null,
      "outputs": []
    },
    {
      "cell_type": "code",
      "source": [
        "epochs = 100\n",
        "batch_size = 128\n",
        "train_steps = X_train.shape[0] // batch_size\n",
        "valid_steps = X_test.shape[0] // batch_size\n",
        "\n",
        "es = keras.callbacks.EarlyStopping(\n",
        "        monitor=\"val_acc\", # metrics to monitor\n",
        "        patience=10, # how many epochs before stop\n",
        "        verbose=1,\n",
        "        mode=\"max\", # we need the maximum accuracy.\n",
        "        restore_best_weights=True, #\n",
        "     )\n",
        "\n",
        "rp = keras.callbacks.ReduceLROnPlateau(\n",
        "        monitor=\"val_acc\",\n",
        "        factor=0.2,\n",
        "        patience=3,\n",
        "        verbose=1,\n",
        "        mode=\"max\",\n",
        "        min_lr=0.00001,\n",
        "     )"
      ],
      "metadata": {
        "execution": {
          "iopub.status.busy": "2024-09-08T06:36:12.108442Z",
          "iopub.execute_input": "2024-09-08T06:36:12.108991Z",
          "iopub.status.idle": "2024-09-08T06:36:12.117995Z",
          "shell.execute_reply.started": "2024-09-08T06:36:12.108927Z",
          "shell.execute_reply": "2024-09-08T06:36:12.116783Z"
        },
        "trusted": true,
        "id": "YtqeITxdZXev"
      },
      "execution_count": null,
      "outputs": []
    },
    {
      "cell_type": "code",
      "source": [
        "history = model.fit(train_gen,\n",
        "                              epochs = epochs,\n",
        "                              steps_per_epoch = train_steps,\n",
        "                              validation_data = test_gen,\n",
        "                              validation_steps = valid_steps,\n",
        "                              callbacks=[es, rp])"
      ],
      "metadata": {
        "execution": {
          "iopub.status.busy": "2024-09-08T06:36:21.862435Z",
          "iopub.execute_input": "2024-09-08T06:36:21.863507Z",
          "iopub.status.idle": "2024-09-08T06:49:21.778469Z",
          "shell.execute_reply.started": "2024-09-08T06:36:21.863446Z",
          "shell.execute_reply": "2024-09-08T06:49:21.777535Z"
        },
        "trusted": true,
        "id": "LdsJIz5PZXev",
        "outputId": "1264fdb2-b5dc-4d33-97cd-fd40e9a74419"
      },
      "execution_count": null,
      "outputs": [
        {
          "name": "stdout",
          "text": "Epoch 1/100\n",
          "output_type": "stream"
        },
        {
          "name": "stderr",
          "text": "/opt/conda/lib/python3.10/site-packages/keras/src/trainers/data_adapters/py_dataset_adapter.py:121: UserWarning: Your `PyDataset` class should call `super().__init__(**kwargs)` in its constructor. `**kwargs` can include `workers`, `use_multiprocessing`, `max_queue_size`. Do not pass these arguments to `fit()`, as they will be ignored.\n  self._warn_if_super_not_called()\nWARNING: All log messages before absl::InitializeLog() is called are written to STDERR\nI0000 00:00:1725777385.174774     130 service.cc:145] XLA service 0x7e98fc009280 initialized for platform CUDA (this does not guarantee that XLA will be used). Devices:\nI0000 00:00:1725777385.174850     130 service.cc:153]   StreamExecutor device (0): Tesla P100-PCIE-16GB, Compute Capability 6.0\n",
          "output_type": "stream"
        },
        {
          "name": "stdout",
          "text": "\u001b[1m  5/295\u001b[0m \u001b[37m━━━━━━━━━━━━━━━━━━━━\u001b[0m \u001b[1m10s\u001b[0m 38ms/step - accuracy: 0.3297 - loss: 1.9733",
          "output_type": "stream"
        },
        {
          "name": "stderr",
          "text": "I0000 00:00:1725777389.069830     130 device_compiler.h:188] Compiled cluster using XLA!  This line is logged at most once for the lifetime of the process.\n",
          "output_type": "stream"
        },
        {
          "name": "stdout",
          "text": "\u001b[1m295/295\u001b[0m \u001b[32m━━━━━━━━━━━━━━━━━━━━\u001b[0m\u001b[37m\u001b[0m \u001b[1m25s\u001b[0m 61ms/step - accuracy: 0.8948 - loss: 0.3321 - val_accuracy: 0.7908 - val_loss: 0.7889 - learning_rate: 0.0010\nEpoch 2/100\n\u001b[1m  1/295\u001b[0m \u001b[37m━━━━━━━━━━━━━━━━━━━━\u001b[0m \u001b[1m3s\u001b[0m 12ms/step - accuracy: 0.9453 - loss: 0.1171",
          "output_type": "stream"
        },
        {
          "name": "stderr",
          "text": "/opt/conda/lib/python3.10/site-packages/keras/src/callbacks/early_stopping.py:155: UserWarning: Early stopping conditioned on metric `val_acc` which is not available. Available metrics are: accuracy,loss,val_accuracy,val_loss\n  current = self.get_monitor_value(logs)\n/opt/conda/lib/python3.10/site-packages/keras/src/callbacks/callback_list.py:96: UserWarning: Learning rate reduction is conditioned on metric `val_acc` which is not available. Available metrics are: accuracy,loss,val_accuracy,val_loss,learning_rate.\n  callback.on_epoch_end(epoch, logs)\n/opt/conda/lib/python3.10/contextlib.py:153: UserWarning: Your input ran out of data; interrupting training. Make sure that your dataset or generator can generate at least `steps_per_epoch * epochs` batches. You may need to use the `.repeat()` function when building your dataset.\n  self.gen.throw(typ, value, traceback)\n",
          "output_type": "stream"
        },
        {
          "name": "stdout",
          "text": "\u001b[1m295/295\u001b[0m \u001b[32m━━━━━━━━━━━━━━━━━━━━\u001b[0m\u001b[37m\u001b[0m \u001b[1m1s\u001b[0m 2ms/step - accuracy: 0.9453 - loss: 0.1171 - val_accuracy: 0.8269 - val_loss: 0.7331 - learning_rate: 0.0010\nEpoch 3/100\n\u001b[1m295/295\u001b[0m \u001b[32m━━━━━━━━━━━━━━━━━━━━\u001b[0m\u001b[37m\u001b[0m \u001b[1m16s\u001b[0m 52ms/step - accuracy: 0.9761 - loss: 0.0749 - val_accuracy: 0.9797 - val_loss: 0.0644 - learning_rate: 0.0010\nEpoch 4/100\n\u001b[1m295/295\u001b[0m \u001b[32m━━━━━━━━━━━━━━━━━━━━\u001b[0m\u001b[37m\u001b[0m \u001b[1m0s\u001b[0m 156us/step - accuracy: 0.9688 - loss: 0.0672 - val_accuracy: 0.9712 - val_loss: 0.0754 - learning_rate: 0.0010\nEpoch 5/100\n\u001b[1m295/295\u001b[0m \u001b[32m━━━━━━━━━━━━━━━━━━━━\u001b[0m\u001b[37m\u001b[0m \u001b[1m16s\u001b[0m 52ms/step - accuracy: 0.9849 - loss: 0.0492 - val_accuracy: 0.9746 - val_loss: 0.0929 - learning_rate: 0.0010\nEpoch 6/100\n\u001b[1m295/295\u001b[0m \u001b[32m━━━━━━━━━━━━━━━━━━━━\u001b[0m\u001b[37m\u001b[0m \u001b[1m0s\u001b[0m 149us/step - accuracy: 0.9922 - loss: 0.0215 - val_accuracy: 0.9615 - val_loss: 0.1060 - learning_rate: 0.0010\nEpoch 7/100\n\u001b[1m295/295\u001b[0m \u001b[32m━━━━━━━━━━━━━━━━━━━━\u001b[0m\u001b[37m\u001b[0m \u001b[1m15s\u001b[0m 50ms/step - accuracy: 0.9843 - loss: 0.0495 - val_accuracy: 0.9854 - val_loss: 0.0465 - learning_rate: 0.0010\nEpoch 8/100\n\u001b[1m295/295\u001b[0m \u001b[32m━━━━━━━━━━━━━━━━━━━━\u001b[0m\u001b[37m\u001b[0m \u001b[1m0s\u001b[0m 132us/step - accuracy: 0.9688 - loss: 0.0849 - val_accuracy: 0.9808 - val_loss: 0.0838 - learning_rate: 0.0010\nEpoch 9/100\n\u001b[1m295/295\u001b[0m \u001b[32m━━━━━━━━━━━━━━━━━━━━\u001b[0m\u001b[37m\u001b[0m \u001b[1m17s\u001b[0m 55ms/step - accuracy: 0.9889 - loss: 0.0372 - val_accuracy: 0.9829 - val_loss: 0.0630 - learning_rate: 0.0010\nEpoch 10/100\n\u001b[1m295/295\u001b[0m \u001b[32m━━━━━━━━━━━━━━━━━━━━\u001b[0m\u001b[37m\u001b[0m \u001b[1m0s\u001b[0m 124us/step - accuracy: 0.9844 - loss: 0.0398 - val_accuracy: 0.9519 - val_loss: 0.1733 - learning_rate: 0.0010\nEpoch 11/100\n\u001b[1m295/295\u001b[0m \u001b[32m━━━━━━━━━━━━━━━━━━━━\u001b[0m\u001b[37m\u001b[0m \u001b[1m15s\u001b[0m 50ms/step - accuracy: 0.9913 - loss: 0.0307 - val_accuracy: 0.9849 - val_loss: 0.0555 - learning_rate: 0.0010\nEpoch 12/100\n\u001b[1m295/295\u001b[0m \u001b[32m━━━━━━━━━━━━━━━━━━━━\u001b[0m\u001b[37m\u001b[0m \u001b[1m0s\u001b[0m 119us/step - accuracy: 0.9844 - loss: 0.0755 - val_accuracy: 0.9904 - val_loss: 0.0212 - learning_rate: 0.0010\nEpoch 13/100\n\u001b[1m295/295\u001b[0m \u001b[32m━━━━━━━━━━━━━━━━━━━━\u001b[0m\u001b[37m\u001b[0m \u001b[1m15s\u001b[0m 51ms/step - accuracy: 0.9910 - loss: 0.0289 - val_accuracy: 0.9895 - val_loss: 0.0345 - learning_rate: 0.0010\nEpoch 14/100\n\u001b[1m295/295\u001b[0m \u001b[32m━━━━━━━━━━━━━━━━━━━━\u001b[0m\u001b[37m\u001b[0m \u001b[1m0s\u001b[0m 125us/step - accuracy: 1.0000 - loss: 0.0032 - val_accuracy: 0.9808 - val_loss: 0.1045 - learning_rate: 0.0010\nEpoch 15/100\n\u001b[1m295/295\u001b[0m \u001b[32m━━━━━━━━━━━━━━━━━━━━\u001b[0m\u001b[37m\u001b[0m \u001b[1m15s\u001b[0m 50ms/step - accuracy: 0.9913 - loss: 0.0265 - val_accuracy: 0.9878 - val_loss: 0.0429 - learning_rate: 0.0010\nEpoch 16/100\n\u001b[1m295/295\u001b[0m \u001b[32m━━━━━━━━━━━━━━━━━━━━\u001b[0m\u001b[37m\u001b[0m \u001b[1m0s\u001b[0m 145us/step - accuracy: 0.9844 - loss: 0.0941 - val_accuracy: 0.9808 - val_loss: 0.0486 - learning_rate: 0.0010\nEpoch 17/100\n\u001b[1m295/295\u001b[0m \u001b[32m━━━━━━━━━━━━━━━━━━━━\u001b[0m\u001b[37m\u001b[0m \u001b[1m15s\u001b[0m 50ms/step - accuracy: 0.9914 - loss: 0.0274 - val_accuracy: 0.9863 - val_loss: 0.0548 - learning_rate: 0.0010\nEpoch 18/100\n\u001b[1m295/295\u001b[0m \u001b[32m━━━━━━━━━━━━━━━━━━━━\u001b[0m\u001b[37m\u001b[0m \u001b[1m0s\u001b[0m 145us/step - accuracy: 0.9922 - loss: 0.0249 - val_accuracy: 0.9904 - val_loss: 0.0353 - learning_rate: 0.0010\nEpoch 19/100\n\u001b[1m295/295\u001b[0m \u001b[32m━━━━━━━━━━━━━━━━━━━━\u001b[0m\u001b[37m\u001b[0m \u001b[1m15s\u001b[0m 50ms/step - accuracy: 0.9916 - loss: 0.0272 - val_accuracy: 0.9900 - val_loss: 0.0407 - learning_rate: 0.0010\nEpoch 20/100\n\u001b[1m295/295\u001b[0m \u001b[32m━━━━━━━━━━━━━━━━━━━━\u001b[0m\u001b[37m\u001b[0m \u001b[1m0s\u001b[0m 142us/step - accuracy: 1.0000 - loss: 0.0011 - val_accuracy: 0.9904 - val_loss: 0.0617 - learning_rate: 0.0010\nEpoch 21/100\n\u001b[1m295/295\u001b[0m \u001b[32m━━━━━━━━━━━━━━━━━━━━\u001b[0m\u001b[37m\u001b[0m \u001b[1m15s\u001b[0m 51ms/step - accuracy: 0.9931 - loss: 0.0228 - val_accuracy: 0.9775 - val_loss: 0.0797 - learning_rate: 0.0010\nEpoch 22/100\n\u001b[1m295/295\u001b[0m \u001b[32m━━━━━━━━━━━━━━━━━━━━\u001b[0m\u001b[37m\u001b[0m \u001b[1m0s\u001b[0m 140us/step - accuracy: 0.9766 - loss: 0.0351 - val_accuracy: 0.9904 - val_loss: 0.0348 - learning_rate: 0.0010\nEpoch 23/100\n\u001b[1m295/295\u001b[0m \u001b[32m━━━━━━━━━━━━━━━━━━━━\u001b[0m\u001b[37m\u001b[0m \u001b[1m15s\u001b[0m 50ms/step - accuracy: 0.9900 - loss: 0.0300 - val_accuracy: 0.9888 - val_loss: 0.0465 - learning_rate: 0.0010\nEpoch 24/100\n\u001b[1m295/295\u001b[0m \u001b[32m━━━━━━━━━━━━━━━━━━━━\u001b[0m\u001b[37m\u001b[0m \u001b[1m0s\u001b[0m 148us/step - accuracy: 0.9844 - loss: 0.0302 - val_accuracy: 1.0000 - val_loss: 0.0107 - learning_rate: 0.0010\nEpoch 25/100\n\u001b[1m295/295\u001b[0m \u001b[32m━━━━━━━━━━━━━━━━━━━━\u001b[0m\u001b[37m\u001b[0m \u001b[1m15s\u001b[0m 50ms/step - accuracy: 0.9940 - loss: 0.0202 - val_accuracy: 0.9905 - val_loss: 0.0366 - learning_rate: 0.0010\nEpoch 26/100\n\u001b[1m295/295\u001b[0m \u001b[32m━━━━━━━━━━━━━━━━━━━━\u001b[0m\u001b[37m\u001b[0m \u001b[1m0s\u001b[0m 137us/step - accuracy: 1.0000 - loss: 0.0012 - val_accuracy: 0.9327 - val_loss: 0.1881 - learning_rate: 0.0010\nEpoch 27/100\n\u001b[1m295/295\u001b[0m \u001b[32m━━━━━━━━━━━━━━━━━━━━\u001b[0m\u001b[37m\u001b[0m \u001b[1m15s\u001b[0m 51ms/step - accuracy: 0.9918 - loss: 0.0269 - val_accuracy: 0.9866 - val_loss: 0.0531 - learning_rate: 0.0010\nEpoch 28/100\n\u001b[1m295/295\u001b[0m \u001b[32m━━━━━━━━━━━━━━━━━━━━\u001b[0m\u001b[37m\u001b[0m \u001b[1m0s\u001b[0m 121us/step - accuracy: 0.9766 - loss: 0.0677 - val_accuracy: 0.9904 - val_loss: 0.0219 - learning_rate: 0.0010\nEpoch 29/100\n\u001b[1m295/295\u001b[0m \u001b[32m━━━━━━━━━━━━━━━━━━━━\u001b[0m\u001b[37m\u001b[0m \u001b[1m15s\u001b[0m 50ms/step - accuracy: 0.9932 - loss: 0.0220 - val_accuracy: 0.9888 - val_loss: 0.0445 - learning_rate: 0.0010\nEpoch 30/100\n\u001b[1m295/295\u001b[0m \u001b[32m━━━━━━━━━━━━━━━━━━━━\u001b[0m\u001b[37m\u001b[0m \u001b[1m0s\u001b[0m 124us/step - accuracy: 0.9922 - loss: 0.0225 - val_accuracy: 1.0000 - val_loss: 0.0210 - learning_rate: 0.0010\nEpoch 31/100\n\u001b[1m295/295\u001b[0m \u001b[32m━━━━━━━━━━━━━━━━━━━━\u001b[0m\u001b[37m\u001b[0m \u001b[1m16s\u001b[0m 52ms/step - accuracy: 0.9937 - loss: 0.0204 - val_accuracy: 0.9905 - val_loss: 0.0362 - learning_rate: 0.0010\nEpoch 32/100\n\u001b[1m295/295\u001b[0m \u001b[32m━━━━━━━━━━━━━━━━━━━━\u001b[0m\u001b[37m\u001b[0m \u001b[1m0s\u001b[0m 151us/step - accuracy: 1.0000 - loss: 0.0049 - val_accuracy: 0.9808 - val_loss: 0.0213 - learning_rate: 0.0010\nEpoch 33/100\n\u001b[1m295/295\u001b[0m \u001b[32m━━━━━━━━━━━━━━━━━━━━\u001b[0m\u001b[37m\u001b[0m \u001b[1m15s\u001b[0m 50ms/step - accuracy: 0.9938 - loss: 0.0190 - val_accuracy: 0.9897 - val_loss: 0.0346 - learning_rate: 0.0010\nEpoch 36/100\n\u001b[1m295/295\u001b[0m \u001b[32m━━━━━━━━━━━━━━━━━━━━\u001b[0m\u001b[37m\u001b[0m \u001b[1m0s\u001b[0m 135us/step - accuracy: 0.9922 - loss: 0.0070 - val_accuracy: 0.9904 - val_loss: 0.0550 - learning_rate: 0.0010\nEpoch 37/100\n\u001b[1m295/295\u001b[0m \u001b[32m━━━━━━━━━━━━━━━━━━━━\u001b[0m\u001b[37m\u001b[0m \u001b[1m15s\u001b[0m 50ms/step - accuracy: 0.9937 - loss: 0.0174 - val_accuracy: 0.9863 - val_loss: 0.0438 - learning_rate: 0.0010\nEpoch 38/100\n\u001b[1m295/295\u001b[0m \u001b[32m━━━━━━━━━━━━━━━━━━━━\u001b[0m\u001b[37m\u001b[0m \u001b[1m0s\u001b[0m 122us/step - accuracy: 0.9922 - loss: 0.0238 - val_accuracy: 1.0000 - val_loss: 0.0097 - learning_rate: 0.0010\nEpoch 39/100\n\u001b[1m295/295\u001b[0m \u001b[32m━━━━━━━━━━━━━━━━━━━━\u001b[0m\u001b[37m\u001b[0m \u001b[1m15s\u001b[0m 51ms/step - accuracy: 0.9938 - loss: 0.0207 - val_accuracy: 0.9900 - val_loss: 0.0393 - learning_rate: 0.0010\nEpoch 40/100\n\u001b[1m295/295\u001b[0m \u001b[32m━━━━━━━━━━━━━━━━━━━━\u001b[0m\u001b[37m\u001b[0m \u001b[1m0s\u001b[0m 132us/step - accuracy: 1.0000 - loss: 0.0071 - val_accuracy: 0.9904 - val_loss: 0.0195 - learning_rate: 0.0010\nEpoch 41/100\n\u001b[1m295/295\u001b[0m \u001b[32m━━━━━━━━━━━━━━━━━━━━\u001b[0m\u001b[37m\u001b[0m \u001b[1m15s\u001b[0m 50ms/step - accuracy: 0.9949 - loss: 0.0178 - val_accuracy: 0.9905 - val_loss: 0.0420 - learning_rate: 0.0010\nEpoch 42/100\n\u001b[1m295/295\u001b[0m \u001b[32m━━━━━━━━━━━━━━━━━━━━\u001b[0m\u001b[37m\u001b[0m \u001b[1m0s\u001b[0m 140us/step - accuracy: 0.9922 - loss: 0.0188 - val_accuracy: 0.9904 - val_loss: 0.0680 - learning_rate: 0.0010\nEpoch 43/100\n\u001b[1m295/295\u001b[0m \u001b[32m━━━━━━━━━━━━━━━━━━━━\u001b[0m\u001b[37m\u001b[0m \u001b[1m15s\u001b[0m 51ms/step - accuracy: 0.9953 - loss: 0.0146 - val_accuracy: 0.9900 - val_loss: 0.0338 - learning_rate: 0.0010\nEpoch 44/100\n\u001b[1m295/295\u001b[0m \u001b[32m━━━━━━━━━━━━━━━━━━━━\u001b[0m\u001b[37m\u001b[0m \u001b[1m0s\u001b[0m 132us/step - accuracy: 1.0000 - loss: 0.0045 - val_accuracy: 0.9904 - val_loss: 0.0076 - learning_rate: 0.0010\nEpoch 45/100\n\u001b[1m295/295\u001b[0m \u001b[32m━━━━━━━━━━━━━━━━━━━━\u001b[0m\u001b[37m\u001b[0m \u001b[1m15s\u001b[0m 50ms/step - accuracy: 0.9950 - loss: 0.0157 - val_accuracy: 0.9885 - val_loss: 0.0376 - learning_rate: 0.0010\nEpoch 46/100\n\u001b[1m295/295\u001b[0m \u001b[32m━━━━━━━━━━━━━━━━━━━━\u001b[0m\u001b[37m\u001b[0m \u001b[1m0s\u001b[0m 129us/step - accuracy: 1.0000 - loss: 0.0047 - val_accuracy: 1.0000 - val_loss: 0.0071 - learning_rate: 0.0010\nEpoch 47/100\n\u001b[1m295/295\u001b[0m \u001b[32m━━━━━━━━━━━━━━━━━━━━\u001b[0m\u001b[37m\u001b[0m \u001b[1m15s\u001b[0m 51ms/step - accuracy: 0.9935 - loss: 0.0199 - val_accuracy: 0.9939 - val_loss: 0.0262 - learning_rate: 0.0010\nEpoch 48/100\n\u001b[1m295/295\u001b[0m \u001b[32m━━━━━━━━━━━━━━━━━━━━\u001b[0m\u001b[37m\u001b[0m \u001b[1m0s\u001b[0m 145us/step - accuracy: 0.9766 - loss: 0.0646 - val_accuracy: 1.0000 - val_loss: 0.0072 - learning_rate: 0.0010\nEpoch 49/100\n\u001b[1m295/295\u001b[0m \u001b[32m━━━━━━━━━━━━━━━━━━━━\u001b[0m\u001b[37m\u001b[0m \u001b[1m15s\u001b[0m 51ms/step - accuracy: 0.9951 - loss: 0.0159 - val_accuracy: 0.9900 - val_loss: 0.0309 - learning_rate: 0.0010\nEpoch 50/100\n\u001b[1m295/295\u001b[0m \u001b[32m━━━━━━━━━━━━━━━━━━━━\u001b[0m\u001b[37m\u001b[0m \u001b[1m0s\u001b[0m 136us/step - accuracy: 0.9922 - loss: 0.0145 - val_accuracy: 0.9808 - val_loss: 0.0517 - learning_rate: 0.0010\nEpoch 51/100\n\u001b[1m295/295\u001b[0m \u001b[32m━━━━━━━━━━━━━━━━━━━━\u001b[0m\u001b[37m\u001b[0m \u001b[1m16s\u001b[0m 52ms/step - accuracy: 0.9954 - loss: 0.0139 - val_accuracy: 0.9890 - val_loss: 0.0364 - learning_rate: 0.0010\nEpoch 52/100\n\u001b[1m295/295\u001b[0m \u001b[32m━━━━━━━━━━━━━━━━━━━━\u001b[0m\u001b[37m\u001b[0m \u001b[1m0s\u001b[0m 147us/step - accuracy: 1.0000 - loss: 0.0015 - val_accuracy: 0.9808 - val_loss: 0.0879 - learning_rate: 0.0010\nEpoch 53/100\n\u001b[1m295/295\u001b[0m \u001b[32m━━━━━━━━━━━━━━━━━━━━\u001b[0m\u001b[37m\u001b[0m \u001b[1m15s\u001b[0m 51ms/step - accuracy: 0.9963 - loss: 0.0127 - val_accuracy: 0.9924 - val_loss: 0.0268 - learning_rate: 0.0010\nEpoch 54/100\n\u001b[1m295/295\u001b[0m \u001b[32m━━━━━━━━━━━━━━━━━━━━\u001b[0m\u001b[37m\u001b[0m \u001b[1m0s\u001b[0m 126us/step - accuracy: 0.9844 - loss: 0.0258 - val_accuracy: 0.9904 - val_loss: 0.0081 - learning_rate: 0.0010\nEpoch 55/100\n\u001b[1m295/295\u001b[0m \u001b[32m━━━━━━━━━━━━━━━━━━━━\u001b[0m\u001b[37m\u001b[0m \u001b[1m15s\u001b[0m 50ms/step - accuracy: 0.9954 - loss: 0.0147 - val_accuracy: 0.9934 - val_loss: 0.0218 - learning_rate: 0.0010\nEpoch 56/100\n\u001b[1m295/295\u001b[0m \u001b[32m━━━━━━━━━━━━━━━━━━━━\u001b[0m\u001b[37m\u001b[0m \u001b[1m0s\u001b[0m 131us/step - accuracy: 1.0000 - loss: 0.0025 - val_accuracy: 0.9904 - val_loss: 0.0092 - learning_rate: 0.0010\nEpoch 57/100\n\u001b[1m295/295\u001b[0m \u001b[32m━━━━━━━━━━━━━━━━━━━━\u001b[0m\u001b[37m\u001b[0m \u001b[1m15s\u001b[0m 50ms/step - accuracy: 0.9970 - loss: 0.0091 - val_accuracy: 0.9895 - val_loss: 0.0389 - learning_rate: 0.0010\nEpoch 58/100\n\u001b[1m295/295\u001b[0m \u001b[32m━━━━━━━━━━━━━━━━━━━━\u001b[0m\u001b[37m\u001b[0m \u001b[1m0s\u001b[0m 137us/step - accuracy: 1.0000 - loss: 0.0070 - val_accuracy: 1.0000 - val_loss: 0.0016 - learning_rate: 0.0010\nEpoch 59/100\n\u001b[1m295/295\u001b[0m \u001b[32m━━━━━━━━━━━━━━━━━━━━\u001b[0m\u001b[37m\u001b[0m \u001b[1m16s\u001b[0m 52ms/step - accuracy: 0.9960 - loss: 0.0125 - val_accuracy: 0.9910 - val_loss: 0.0403 - learning_rate: 0.0010\nEpoch 60/100\n\u001b[1m295/295\u001b[0m \u001b[32m━━━━━━━━━━━━━━━━━━━━\u001b[0m\u001b[37m\u001b[0m \u001b[1m0s\u001b[0m 150us/step - accuracy: 1.0000 - loss: 0.0015 - val_accuracy: 0.9808 - val_loss: 0.0181 - learning_rate: 0.0010\nEpoch 61/100\n\u001b[1m295/295\u001b[0m \u001b[32m━━━━━━━━━━━━━━━━━━━━\u001b[0m\u001b[37m\u001b[0m \u001b[1m16s\u001b[0m 54ms/step - accuracy: 0.9961 - loss: 0.0129 - val_accuracy: 0.9893 - val_loss: 0.0373 - learning_rate: 0.0010\nEpoch 62/100\n\u001b[1m295/295\u001b[0m \u001b[32m━━━━━━━━━━━━━━━━━━━━\u001b[0m\u001b[37m\u001b[0m \u001b[1m0s\u001b[0m 144us/step - accuracy: 1.0000 - loss: 0.0038 - val_accuracy: 0.9904 - val_loss: 0.0417 - learning_rate: 0.0010\nEpoch 63/100\n\u001b[1m295/295\u001b[0m \u001b[32m━━━━━━━━━━━━━━━━━━━━\u001b[0m\u001b[37m\u001b[0m \u001b[1m16s\u001b[0m 53ms/step - accuracy: 0.9962 - loss: 0.0110 - val_accuracy: 0.9844 - val_loss: 0.0637 - learning_rate: 0.0010\nEpoch 64/100\n\u001b[1m295/295\u001b[0m \u001b[32m━━━━━━━━━━━━━━━━━━━━\u001b[0m\u001b[37m\u001b[0m \u001b[1m0s\u001b[0m 134us/step - accuracy: 0.9922 - loss: 0.0292 - val_accuracy: 0.9808 - val_loss: 0.1279 - learning_rate: 0.0010\nEpoch 65/100\n\u001b[1m295/295\u001b[0m \u001b[32m━━━━━━━━━━━━━━━━━━━━\u001b[0m\u001b[37m\u001b[0m \u001b[1m16s\u001b[0m 52ms/step - accuracy: 0.9957 - loss: 0.0133 - val_accuracy: 0.9929 - val_loss: 0.0242 - learning_rate: 0.0010\nEpoch 66/100\n\u001b[1m295/295\u001b[0m \u001b[32m━━━━━━━━━━━━━━━━━━━━\u001b[0m\u001b[37m\u001b[0m \u001b[1m0s\u001b[0m 127us/step - accuracy: 0.9922 - loss: 0.0235 - val_accuracy: 0.9808 - val_loss: 0.0252 - learning_rate: 0.0010\nEpoch 67/100\n\u001b[1m295/295\u001b[0m \u001b[32m━━━━━━━━━━━━━━━━━━━━\u001b[0m\u001b[37m\u001b[0m \u001b[1m15s\u001b[0m 51ms/step - accuracy: 0.9965 - loss: 0.0115 - val_accuracy: 0.9932 - val_loss: 0.0235 - learning_rate: 0.0010\nEpoch 68/100\n\u001b[1m295/295\u001b[0m \u001b[32m━━━━━━━━━━━━━━━━━━━━\u001b[0m\u001b[37m\u001b[0m \u001b[1m0s\u001b[0m 148us/step - accuracy: 1.0000 - loss: 0.0017 - val_accuracy: 1.0000 - val_loss: 0.0076 - learning_rate: 0.0010\nEpoch 69/100\n\u001b[1m295/295\u001b[0m \u001b[32m━━━━━━━━━━━━━━━━━━━━\u001b[0m\u001b[37m\u001b[0m \u001b[1m15s\u001b[0m 50ms/step - accuracy: 0.9970 - loss: 0.0100 - val_accuracy: 0.9927 - val_loss: 0.0315 - learning_rate: 0.0010\nEpoch 70/100\n\u001b[1m295/295\u001b[0m \u001b[32m━━━━━━━━━━━━━━━━━━━━\u001b[0m\u001b[37m\u001b[0m \u001b[1m0s\u001b[0m 123us/step - accuracy: 1.0000 - loss: 0.0071 - val_accuracy: 0.9904 - val_loss: 0.0201 - learning_rate: 0.0010\nEpoch 71/100\n\u001b[1m295/295\u001b[0m \u001b[32m━━━━━━━━━━━━━━━━━━━━\u001b[0m\u001b[37m\u001b[0m \u001b[1m15s\u001b[0m 50ms/step - accuracy: 0.9967 - loss: 0.0103 - val_accuracy: 0.9922 - val_loss: 0.0269 - learning_rate: 0.0010\nEpoch 72/100\n\u001b[1m295/295\u001b[0m \u001b[32m━━━━━━━━━━━━━━━━━━━━\u001b[0m\u001b[37m\u001b[0m \u001b[1m0s\u001b[0m 141us/step - accuracy: 1.0000 - loss: 0.0065 - val_accuracy: 0.9904 - val_loss: 0.0358 - learning_rate: 0.0010\nEpoch 73/100\n\u001b[1m295/295\u001b[0m \u001b[32m━━━━━━━━━━━━━━━━━━━━\u001b[0m\u001b[37m\u001b[0m \u001b[1m15s\u001b[0m 49ms/step - accuracy: 0.9962 - loss: 0.0120 - val_accuracy: 0.9939 - val_loss: 0.0230 - learning_rate: 0.0010\nEpoch 74/100\n\u001b[1m295/295\u001b[0m \u001b[32m━━━━━━━━━━━━━━━━━━━━\u001b[0m\u001b[37m\u001b[0m \u001b[1m0s\u001b[0m 133us/step - accuracy: 0.9922 - loss: 0.0096 - val_accuracy: 0.9808 - val_loss: 0.0957 - learning_rate: 0.0010\nEpoch 75/100\n\u001b[1m295/295\u001b[0m \u001b[32m━━━━━━━━━━━━━━━━━━━━\u001b[0m\u001b[37m\u001b[0m \u001b[1m15s\u001b[0m 50ms/step - accuracy: 0.9972 - loss: 0.0096 - val_accuracy: 0.9905 - val_loss: 0.0375 - learning_rate: 0.0010\nEpoch 76/100\n\u001b[1m295/295\u001b[0m \u001b[32m━━━━━━━━━━━━━━━━━━━━\u001b[0m\u001b[37m\u001b[0m \u001b[1m0s\u001b[0m 120us/step - accuracy: 1.0000 - loss: 0.0010 - val_accuracy: 1.0000 - val_loss: 0.0015 - learning_rate: 0.0010\nEpoch 77/100\n\u001b[1m295/295\u001b[0m \u001b[32m━━━━━━━━━━━━━━━━━━━━\u001b[0m\u001b[37m\u001b[0m \u001b[1m15s\u001b[0m 49ms/step - accuracy: 0.9966 - loss: 0.0114 - val_accuracy: 0.9917 - val_loss: 0.0326 - learning_rate: 0.0010\nEpoch 78/100\n\u001b[1m295/295\u001b[0m \u001b[32m━━━━━━━━━━━━━━━━━━━━\u001b[0m\u001b[37m\u001b[0m \u001b[1m0s\u001b[0m 129us/step - accuracy: 1.0000 - loss: 0.0031 - val_accuracy: 1.0000 - val_loss: 0.0095 - learning_rate: 0.0010\nEpoch 79/100\n\u001b[1m295/295\u001b[0m \u001b[32m━━━━━━━━━━━━━━━━━━━━\u001b[0m\u001b[37m\u001b[0m \u001b[1m15s\u001b[0m 51ms/step - accuracy: 0.9969 - loss: 0.0094 - val_accuracy: 0.9922 - val_loss: 0.0368 - learning_rate: 0.0010\nEpoch 80/100\n\u001b[1m295/295\u001b[0m \u001b[32m━━━━━━━━━━━━━━━━━━━━\u001b[0m\u001b[37m\u001b[0m \u001b[1m0s\u001b[0m 124us/step - accuracy: 0.9922 - loss: 0.0196 - val_accuracy: 0.9808 - val_loss: 0.0535 - learning_rate: 0.0010\nEpoch 81/100\n\u001b[1m295/295\u001b[0m \u001b[32m━━━━━━━━━━━━━━━━━━━━\u001b[0m\u001b[37m\u001b[0m \u001b[1m15s\u001b[0m 50ms/step - accuracy: 0.9967 - loss: 0.0117 - val_accuracy: 0.9927 - val_loss: 0.0306 - learning_rate: 0.0010\nEpoch 82/100\n\u001b[1m295/295\u001b[0m \u001b[32m━━━━━━━━━━━━━━━━━━━━\u001b[0m\u001b[37m\u001b[0m \u001b[1m0s\u001b[0m 157us/step - accuracy: 0.9922 - loss: 0.0422 - val_accuracy: 0.9808 - val_loss: 0.0757 - learning_rate: 0.0010\nEpoch 83/100\n\u001b[1m295/295\u001b[0m \u001b[32m━━━━━━━━━━━━━━━━━━━━\u001b[0m\u001b[37m\u001b[0m \u001b[1m15s\u001b[0m 51ms/step - accuracy: 0.9969 - loss: 0.0087 - val_accuracy: 0.9949 - val_loss: 0.0199 - learning_rate: 0.0010\nEpoch 84/100\n\u001b[1m295/295\u001b[0m \u001b[32m━━━━━━━━━━━━━━━━━━━━\u001b[0m\u001b[37m\u001b[0m \u001b[1m0s\u001b[0m 139us/step - accuracy: 1.0000 - loss: 0.0031 - val_accuracy: 1.0000 - val_loss: 3.0288e-04 - learning_rate: 0.0010\nEpoch 85/100\n\u001b[1m295/295\u001b[0m \u001b[32m━━━━━━━━━━━━━━━━━━━━\u001b[0m\u001b[37m\u001b[0m \u001b[1m15s\u001b[0m 50ms/step - accuracy: 0.9968 - loss: 0.0110 - val_accuracy: 0.9924 - val_loss: 0.0279 - learning_rate: 0.0010\nEpoch 86/100\n\u001b[1m295/295\u001b[0m \u001b[32m━━━━━━━━━━━━━━━━━━━━\u001b[0m\u001b[37m\u001b[0m \u001b[1m0s\u001b[0m 137us/step - accuracy: 1.0000 - loss: 3.9820e-04 - val_accuracy: 0.9808 - val_loss: 0.0698 - learning_rate: 0.0010\nEpoch 87/100\n\u001b[1m295/295\u001b[0m \u001b[32m━━━━━━━━━━━━━━━━━━━━\u001b[0m\u001b[37m\u001b[0m \u001b[1m15s\u001b[0m 50ms/step - accuracy: 0.9971 - loss: 0.0102 - val_accuracy: 0.9907 - val_loss: 0.0384 - learning_rate: 0.0010\nEpoch 88/100\n\u001b[1m295/295\u001b[0m \u001b[32m━━━━━━━━━━━━━━━━━━━━\u001b[0m\u001b[37m\u001b[0m \u001b[1m0s\u001b[0m 155us/step - accuracy: 1.0000 - loss: 6.9781e-05 - val_accuracy: 1.0000 - val_loss: 0.0011 - learning_rate: 0.0010\nEpoch 89/100\n\u001b[1m295/295\u001b[0m \u001b[32m━━━━━━━━━━━━━━━━━━━━\u001b[0m\u001b[37m\u001b[0m \u001b[1m15s\u001b[0m 50ms/step - accuracy: 0.9974 - loss: 0.0081 - val_accuracy: 0.9917 - val_loss: 0.0344 - learning_rate: 0.0010\nEpoch 90/100\n\u001b[1m295/295\u001b[0m \u001b[32m━━━━━━━━━━━━━━━━━━━━\u001b[0m\u001b[37m\u001b[0m \u001b[1m0s\u001b[0m 121us/step - accuracy: 1.0000 - loss: 4.6288e-04 - val_accuracy: 1.0000 - val_loss: 0.0027 - learning_rate: 0.0010\nEpoch 91/100\n\u001b[1m295/295\u001b[0m \u001b[32m━━━━━━━━━━━━━━━━━━━━\u001b[0m\u001b[37m\u001b[0m \u001b[1m15s\u001b[0m 50ms/step - accuracy: 0.9979 - loss: 0.0069 - val_accuracy: 0.9922 - val_loss: 0.0353 - learning_rate: 0.0010\nEpoch 92/100\n\u001b[1m295/295\u001b[0m \u001b[32m━━━━━━━━━━━━━━━━━━━━\u001b[0m\u001b[37m\u001b[0m \u001b[1m0s\u001b[0m 138us/step - accuracy: 1.0000 - loss: 2.3981e-04 - val_accuracy: 0.9904 - val_loss: 0.0189 - learning_rate: 0.0010\nEpoch 93/100\n\u001b[1m295/295\u001b[0m \u001b[32m━━━━━━━━━━━━━━━━━━━━\u001b[0m\u001b[37m\u001b[0m \u001b[1m15s\u001b[0m 50ms/step - accuracy: 0.9977 - loss: 0.0085 - val_accuracy: 0.9868 - val_loss: 0.0462 - learning_rate: 0.0010\nEpoch 94/100\n\u001b[1m295/295\u001b[0m \u001b[32m━━━━━━━━━━━━━━━━━━━━\u001b[0m\u001b[37m\u001b[0m \u001b[1m0s\u001b[0m 132us/step - accuracy: 1.0000 - loss: 0.0019 - val_accuracy: 0.9808 - val_loss: 0.1682 - learning_rate: 0.0010\nEpoch 95/100\n\u001b[1m295/295\u001b[0m \u001b[32m━━━━━━━━━━━━━━━━━━━━\u001b[0m\u001b[37m\u001b[0m \u001b[1m16s\u001b[0m 52ms/step - accuracy: 0.9961 - loss: 0.0112 - val_accuracy: 0.9946 - val_loss: 0.0214 - learning_rate: 0.0010\nEpoch 96/100\n\u001b[1m295/295\u001b[0m \u001b[32m━━━━━━━━━━━━━━━━━━━━\u001b[0m\u001b[37m\u001b[0m \u001b[1m0s\u001b[0m 153us/step - accuracy: 1.0000 - loss: 0.0116 - val_accuracy: 0.9904 - val_loss: 0.0452 - learning_rate: 0.0010\nEpoch 97/100\n\u001b[1m295/295\u001b[0m \u001b[32m━━━━━━━━━━━━━━━━━━━━\u001b[0m\u001b[37m\u001b[0m \u001b[1m16s\u001b[0m 53ms/step - accuracy: 0.9962 - loss: 0.0121 - val_accuracy: 0.9927 - val_loss: 0.0273 - learning_rate: 0.0010\nEpoch 98/100\n\u001b[1m295/295\u001b[0m \u001b[32m━━━━━━━━━━━━━━━━━━━━\u001b[0m\u001b[37m\u001b[0m \u001b[1m0s\u001b[0m 126us/step - accuracy: 1.0000 - loss: 0.0011 - val_accuracy: 1.0000 - val_loss: 0.0011 - learning_rate: 0.0010\nEpoch 99/100\n\u001b[1m295/295\u001b[0m \u001b[32m━━━━━━━━━━━━━━━━━━━━\u001b[0m\u001b[37m\u001b[0m \u001b[1m15s\u001b[0m 50ms/step - accuracy: 0.9977 - loss: 0.0074 - val_accuracy: 0.9944 - val_loss: 0.0244 - learning_rate: 0.0010\nEpoch 100/100\n\u001b[1m295/295\u001b[0m \u001b[32m━━━━━━━━━━━━━━━━━━━━\u001b[0m\u001b[37m\u001b[0m \u001b[1m0s\u001b[0m 133us/step - accuracy: 1.0000 - loss: 0.0041 - val_accuracy: 0.9808 - val_loss: 0.0751 - learning_rate: 0.0010\n",
          "output_type": "stream"
        }
      ]
    },
    {
      "cell_type": "code",
      "source": [
        "# Plot the loss and accuracy curves for training and validation\n",
        "fig, ax = plt.subplots(2,1, figsize=(18, 10))\n",
        "ax[0].plot(history.history['loss'], color='b', label=\"Training loss\")\n",
        "ax[0].plot(history.history['val_loss'], color='r', label=\"validation loss\",axes =ax[0])\n",
        "legend = ax[0].legend(loc='best', shadow=True)\n",
        "\n",
        "ax[1].plot(history.history['accuracy'], color='b', label=\"Training accuracy\")\n",
        "ax[1].plot(history.history['val_accuracy'], color='r',label=\"Validation accuracy\")\n",
        "legend = ax[1].legend(loc='best', shadow=True)"
      ],
      "metadata": {
        "execution": {
          "iopub.status.busy": "2024-09-08T06:49:38.73319Z",
          "iopub.execute_input": "2024-09-08T06:49:38.73365Z",
          "iopub.status.idle": "2024-09-08T06:49:39.326156Z",
          "shell.execute_reply.started": "2024-09-08T06:49:38.733607Z",
          "shell.execute_reply": "2024-09-08T06:49:39.324785Z"
        },
        "trusted": true,
        "id": "btGAgQcFZXev"
      },
      "execution_count": null,
      "outputs": []
    },
    {
      "cell_type": "code",
      "source": [],
      "metadata": {
        "id": "zsGGrO4nZXev"
      },
      "execution_count": null,
      "outputs": []
    }
  ]
}